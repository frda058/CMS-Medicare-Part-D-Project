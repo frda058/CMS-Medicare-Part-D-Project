{
 "cells": [
  {
   "cell_type": "markdown",
   "metadata": {},
   "source": [
    "## Google Drive Link to Results\n",
    "\n",
    "The .save files were too large to be committed to a github repo, despite compressing as a zip file. The link below is a Google Drive folder containing all the model data"
   ]
  },
  {
   "cell_type": "markdown",
   "metadata": {},
   "source": [
    "### Model Grid\n",
    "\n",
    "https://drive.google.com/drive/folders/1WGjwhzVbi5JpCS1-UUc7tkNTNmseG73R?usp=sharing"
   ]
  }
 ],
 "metadata": {
  "kernelspec": {
   "display_name": "Python [conda env:data1030]",
   "language": "python",
   "name": "conda-env-data1030-py"
  },
  "language_info": {
   "codemirror_mode": {
    "name": "ipython",
    "version": 3
   },
   "file_extension": ".py",
   "mimetype": "text/x-python",
   "name": "python",
   "nbconvert_exporter": "python",
   "pygments_lexer": "ipython3",
   "version": "3.10.5"
  }
 },
 "nbformat": 4,
 "nbformat_minor": 4
}
